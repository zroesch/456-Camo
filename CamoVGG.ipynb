{
  "cells": [
    {
      "cell_type": "code",
      "execution_count": 1,
      "metadata": {
        "id": "mbIwjGaWQpbZ"
      },
      "outputs": [],
      "source": [
        "from google.colab import drive\n",
        "import tensorflow as tf\n",
        "from tensorflow import keras\n",
        "from keras import layers as layers\n",
        "from keras import activations as af\n",
        "import matplotlib.pyplot as plt\n",
        "import tensorboard\n",
        "import datetime, os\n",
        "import numpy as np"
      ]
    },
    {
      "cell_type": "code",
      "execution_count": 2,
      "metadata": {
        "colab": {
          "base_uri": "https://localhost:8080/"
        },
        "id": "cSJmA4fcQR7Z",
        "outputId": "9a024ebd-29a3-4004-fefe-db8a03a60f92"
      },
      "outputs": [
        {
          "output_type": "stream",
          "name": "stdout",
          "text": [
            "Drive already mounted at /content/drive; to attempt to forcibly remount, call drive.mount(\"/content/drive\", force_remount=True).\n"
          ]
        }
      ],
      "source": [
        "drive.mount('/content/drive')"
      ]
    },
    {
      "cell_type": "code",
      "execution_count": 3,
      "metadata": {
        "id": "ynLCBtXnSojf"
      },
      "outputs": [],
      "source": [
        "dataAugmentation = keras.Sequential([layers.RandomFlip(\"horizontal_and_vertical\"),\n",
        "                                     layers.RandomRotation(0.3)])"
      ]
    },
    {
      "cell_type": "code",
      "execution_count": 4,
      "metadata": {
        "id": "Us90zEboxKZQ"
      },
      "outputs": [],
      "source": [
        "trainDir = \"/content/drive/My Drive/Fall 2022 Studies/CECS 456 Machine Learning/dataset/train\"\n",
        "validateDir = \"/content/drive/My Drive/Fall 2022 Studies/CECS 456 Machine Learning/dataset/validate\"\n",
        "testDir = \"/content/drive/My Drive/Fall 2022 Studies/CECS 456 Machine Learning/dataset/test\""
      ]
    },
    {
      "cell_type": "code",
      "execution_count": 46,
      "metadata": {
        "colab": {
          "base_uri": "https://localhost:8080/"
        },
        "id": "ML5wKbVzSuTu",
        "outputId": "2568a016-3366-49ac-cc3b-7876bbbc8d28"
      },
      "outputs": [
        {
          "output_type": "stream",
          "name": "stdout",
          "text": [
            "Found 3000 files belonging to 3 classes.\n"
          ]
        }
      ],
      "source": [
        "batchSize = 32\n",
        "imgHeight = 224\n",
        "imgWidth = 224\n",
        "\n",
        "# loads images into 'train' and creates a semi-processed dataset\n",
        "train = tf.keras.utils.image_dataset_from_directory(trainDir,\n",
        "                                                 labels=\"inferred\",\n",
        "                                                 label_mode=\"categorical\",\n",
        "                                                 color_mode=\"rgb\",\n",
        "                                                 shuffle=True,\n",
        "                                                 batch_size=batchSize,\n",
        "                                                 image_size=(imgHeight, imgWidth))\n",
        "\n",
        "\n",
        "# standardizing 'train' data set, completes processing of the dataset using the dataAugmentation model\n",
        "augmentedTrain = train.map(lambda x, y: (dataAugmentation(x, training=True), y))"
      ]
    },
    {
      "cell_type": "code",
      "execution_count": 47,
      "metadata": {
        "colab": {
          "base_uri": "https://localhost:8080/"
        },
        "id": "6SVBP2oDS1Ws",
        "outputId": "e0b142c8-7198-4dfb-c561-21809d2cb667"
      },
      "outputs": [
        {
          "output_type": "stream",
          "name": "stdout",
          "text": [
            "Found 375 files belonging to 3 classes.\n"
          ]
        }
      ],
      "source": [
        "# loads images into 'validate' and creates a semi-processed dataset\n",
        "validate = tf.keras.utils.image_dataset_from_directory(validateDir,\n",
        "                                                    labels=\"inferred\",\n",
        "                                                    label_mode=\"categorical\",\n",
        "                                                    color_mode=\"rgb\",\n",
        "                                                    batch_size=batchSize,\n",
        "                                                    image_size=(imgHeight, imgWidth))"
      ]
    },
    {
      "cell_type": "code",
      "execution_count": 48,
      "metadata": {
        "colab": {
          "base_uri": "https://localhost:8080/"
        },
        "id": "jgQdM8hmS_hj",
        "outputId": "75eb1d52-316a-4959-8a67-3689c90fc376"
      },
      "outputs": [
        {
          "output_type": "stream",
          "name": "stdout",
          "text": [
            "Found 375 files belonging to 3 classes.\n"
          ]
        }
      ],
      "source": [
        "#loads images into 'test'\n",
        "test = tf.keras.utils.image_dataset_from_directory(testDir,\n",
        "                                                    labels=\"inferred\",\n",
        "                                                    label_mode=\"categorical\",\n",
        "                                                    color_mode=\"rgb\",\n",
        "                                                    batch_size=batchSize,\n",
        "                                                    image_size=(imgHeight, imgWidth))"
      ]
    },
    {
      "cell_type": "code",
      "execution_count": 49,
      "metadata": {
        "colab": {
          "base_uri": "https://localhost:8080/"
        },
        "id": "piATedntUnKZ",
        "outputId": "4f8f5e7b-ec1a-4eb4-c2d6-a57b227fe7e0"
      },
      "outputs": [
        {
          "output_type": "stream",
          "name": "stdout",
          "text": [
            "Model: \"VGGNet\"\n",
            "_________________________________________________________________\n",
            " Layer (type)                Output Shape              Param #   \n",
            "=================================================================\n",
            " conv2d_169 (Conv2D)         (None, 224, 224, 64)      1792      \n",
            "                                                                 \n",
            " conv2d_170 (Conv2D)         (None, 224, 224, 64)      36928     \n",
            "                                                                 \n",
            " max_pooling2d_65 (MaxPoolin  (None, 112, 112, 64)     0         \n",
            " g2D)                                                            \n",
            "                                                                 \n",
            " conv2d_171 (Conv2D)         (None, 112, 112, 128)     73856     \n",
            "                                                                 \n",
            " conv2d_172 (Conv2D)         (None, 112, 112, 128)     147584    \n",
            "                                                                 \n",
            " max_pooling2d_66 (MaxPoolin  (None, 56, 56, 128)      0         \n",
            " g2D)                                                            \n",
            "                                                                 \n",
            " conv2d_173 (Conv2D)         (None, 56, 56, 256)       295168    \n",
            "                                                                 \n",
            " conv2d_174 (Conv2D)         (None, 56, 56, 256)       590080    \n",
            "                                                                 \n",
            " conv2d_175 (Conv2D)         (None, 56, 56, 256)       590080    \n",
            "                                                                 \n",
            " max_pooling2d_67 (MaxPoolin  (None, 28, 28, 256)      0         \n",
            " g2D)                                                            \n",
            "                                                                 \n",
            " conv2d_176 (Conv2D)         (None, 28, 28, 512)       1180160   \n",
            "                                                                 \n",
            " conv2d_177 (Conv2D)         (None, 28, 28, 512)       2359808   \n",
            "                                                                 \n",
            " conv2d_178 (Conv2D)         (None, 28, 28, 512)       2359808   \n",
            "                                                                 \n",
            " max_pooling2d_68 (MaxPoolin  (None, 14, 14, 512)      0         \n",
            " g2D)                                                            \n",
            "                                                                 \n",
            " conv2d_179 (Conv2D)         (None, 14, 14, 512)       2359808   \n",
            "                                                                 \n",
            " conv2d_180 (Conv2D)         (None, 14, 14, 512)       2359808   \n",
            "                                                                 \n",
            " conv2d_181 (Conv2D)         (None, 14, 14, 512)       2359808   \n",
            "                                                                 \n",
            " max_pooling2d_69 (MaxPoolin  (None, 7, 7, 512)        0         \n",
            " g2D)                                                            \n",
            "                                                                 \n",
            " flatten_13 (Flatten)        (None, 25088)             0         \n",
            "                                                                 \n",
            " dense_39 (Dense)            (None, 4096)              102764544 \n",
            "                                                                 \n",
            " dense_40 (Dense)            (None, 4096)              16781312  \n",
            "                                                                 \n",
            " dropout_25 (Dropout)        (None, 4096)              0         \n",
            "                                                                 \n",
            " dense_41 (Dense)            (None, 3)                 12291     \n",
            "                                                                 \n",
            "=================================================================\n",
            "Total params: 134,272,835\n",
            "Trainable params: 134,272,835\n",
            "Non-trainable params: 0\n",
            "_________________________________________________________________\n"
          ]
        }
      ],
      "source": [
        "# model architecture\n",
        "numClasses = 3\n",
        "cnn = tf.keras.models.Sequential(name=\"VGGNet\") #initializing the CNN\n",
        "cnn.add(tf.keras.layers.Conv2D(filters=64, kernel_size=3, activation=\"relu\", padding = \"same\", input_shape=(224, 224, 3))) #Convolution 1\n",
        "cnn.add(tf.keras.layers.Conv2D(filters=64, kernel_size=3, activation=\"relu\", padding = \"same\")) #Convolution 2\n",
        "cnn.add(tf.keras.layers.MaxPool2D(pool_size=2, strides=2)) #Pooling 1\n",
        "\n",
        "cnn.add(tf.keras.layers.Conv2D(filters=128, kernel_size=3, activation=\"relu\", padding = \"same\")) #Convolution 3\n",
        "cnn.add(tf.keras.layers.Conv2D(filters=128, kernel_size=3, activation=\"relu\", padding = \"same\")) #Convolution 4\n",
        "cnn.add(tf.keras.layers.MaxPool2D(pool_size=2, strides=2)) #Pooling 2\n",
        "\n",
        "cnn.add(tf.keras.layers.Conv2D(filters=256, kernel_size=3, activation=\"relu\", padding = \"same\")) #Convolution 5\n",
        "cnn.add(tf.keras.layers.Conv2D(filters=256, kernel_size=3, activation=\"relu\", padding = \"same\")) #Convolution 6\n",
        "cnn.add(tf.keras.layers.Conv2D(filters=256, kernel_size=3, activation=\"relu\", padding = \"same\")) #Convolution 7\n",
        "cnn.add(tf.keras.layers.MaxPool2D(pool_size=2, strides=2)) #Pooling 3\n",
        "\n",
        "cnn.add(tf.keras.layers.Conv2D(filters=512, kernel_size=3, activation=\"relu\", padding = \"same\")) #Convolution 8\n",
        "cnn.add(tf.keras.layers.Conv2D(filters=512, kernel_size=3, activation=\"relu\", padding = \"same\")) #Convolution 9\n",
        "cnn.add(tf.keras.layers.Conv2D(filters=512, kernel_size=3, activation=\"relu\", padding = \"same\")) #Convolution 10\n",
        "cnn.add(tf.keras.layers.MaxPool2D(pool_size=2, strides=2)) #Pooling 4\n",
        "\n",
        "cnn.add(tf.keras.layers.Conv2D(filters=512, kernel_size=3, activation=\"relu\", padding = \"same\")) #Convolution 11\n",
        "cnn.add(tf.keras.layers.Conv2D(filters=512, kernel_size=3, activation=\"relu\", padding = \"same\")) #Convolution 12\n",
        "cnn.add(tf.keras.layers.Conv2D(filters=512, kernel_size=3, activation=\"relu\", padding = \"same\")) #Convolution 13\n",
        "cnn.add(tf.keras.layers.MaxPool2D(pool_size=2, strides=2)) #Pooling 5\n",
        "\n",
        "cnn.add(tf.keras.layers.Flatten()) #Flaterning\n",
        "cnn.add(tf.keras.layers.Dense(units=4096, activation=\"relu\"))#Full Connection1\n",
        "cnn.add(tf.keras.layers.Dense(units=4096, activation=\"relu\"))#Full Connection2\n",
        "cnn.add(tf.keras.layers.Dropout(0.5))\n",
        "cnn.add(tf.keras.layers.Dense(units=3, activation=tf.nn.softmax))#Output layer\n",
        "# cnn.compile(loss='categorical_crossentropy',\n",
        "#               optimizer=keras.optimizers.Adam(),\n",
        "#               metrics=keras.metrics.Accuracy()\n",
        "#               )\n",
        "cnn.compile(loss='categorical_crossentropy',\n",
        "              optimizer=keras.optimizers.SGD(learning_rate= 0.001),\n",
        "              metrics=['categorical_accuracy']\n",
        "              )\n",
        "cnn.summary()"
      ]
    },
    {
      "cell_type": "code",
      "execution_count": 51,
      "metadata": {
        "colab": {
          "base_uri": "https://localhost:8080/"
        },
        "id": "T-kinKnRUp-x",
        "outputId": "588da37c-2ba1-4d99-87a8-bcfaa7c53827"
      },
      "outputs": [
        {
          "output_type": "stream",
          "name": "stdout",
          "text": [
            "Epoch 1/60\n",
            "94/94 [==============================] - 25s 264ms/step - loss: 1.0421 - categorical_accuracy: 0.4593 - val_loss: 0.9900 - val_categorical_accuracy: 0.5840\n",
            "Epoch 2/60\n",
            "94/94 [==============================] - 25s 262ms/step - loss: 1.0131 - categorical_accuracy: 0.5027 - val_loss: 1.0412 - val_categorical_accuracy: 0.4080\n",
            "Epoch 3/60\n",
            "94/94 [==============================] - 25s 261ms/step - loss: 0.9663 - categorical_accuracy: 0.5517 - val_loss: 0.9131 - val_categorical_accuracy: 0.5947\n",
            "Epoch 4/60\n",
            "94/94 [==============================] - 25s 261ms/step - loss: 0.9450 - categorical_accuracy: 0.5640 - val_loss: 0.9711 - val_categorical_accuracy: 0.5440\n",
            "Epoch 5/60\n",
            "94/94 [==============================] - 25s 262ms/step - loss: 0.9168 - categorical_accuracy: 0.5953 - val_loss: 0.9595 - val_categorical_accuracy: 0.5627\n",
            "Epoch 6/60\n",
            "94/94 [==============================] - 25s 261ms/step - loss: 0.8920 - categorical_accuracy: 0.5947 - val_loss: 0.8930 - val_categorical_accuracy: 0.6400\n",
            "Epoch 7/60\n",
            "94/94 [==============================] - 25s 261ms/step - loss: 0.8783 - categorical_accuracy: 0.6137 - val_loss: 0.8361 - val_categorical_accuracy: 0.6533\n",
            "Epoch 8/60\n",
            "94/94 [==============================] - 25s 261ms/step - loss: 0.8787 - categorical_accuracy: 0.6200 - val_loss: 0.8254 - val_categorical_accuracy: 0.6747\n",
            "Epoch 9/60\n",
            "94/94 [==============================] - 25s 262ms/step - loss: 0.8564 - categorical_accuracy: 0.6407 - val_loss: 0.8224 - val_categorical_accuracy: 0.6613\n",
            "Epoch 10/60\n",
            "94/94 [==============================] - 25s 261ms/step - loss: 0.8297 - categorical_accuracy: 0.6397 - val_loss: 0.8145 - val_categorical_accuracy: 0.6613\n",
            "Epoch 11/60\n",
            "94/94 [==============================] - 25s 261ms/step - loss: 0.8295 - categorical_accuracy: 0.6487 - val_loss: 0.8106 - val_categorical_accuracy: 0.6747\n",
            "Epoch 12/60\n",
            "94/94 [==============================] - 25s 261ms/step - loss: 0.8194 - categorical_accuracy: 0.6487 - val_loss: 0.9089 - val_categorical_accuracy: 0.6240\n",
            "Epoch 13/60\n",
            "94/94 [==============================] - 25s 261ms/step - loss: 0.8032 - categorical_accuracy: 0.6590 - val_loss: 0.9132 - val_categorical_accuracy: 0.5867\n",
            "Epoch 14/60\n",
            "94/94 [==============================] - 25s 261ms/step - loss: 0.8000 - categorical_accuracy: 0.6657 - val_loss: 0.8244 - val_categorical_accuracy: 0.6907\n",
            "Epoch 15/60\n",
            "94/94 [==============================] - 25s 261ms/step - loss: 0.7998 - categorical_accuracy: 0.6630 - val_loss: 0.8379 - val_categorical_accuracy: 0.6560\n",
            "Epoch 16/60\n",
            "94/94 [==============================] - 25s 261ms/step - loss: 0.7898 - categorical_accuracy: 0.6623 - val_loss: 0.8268 - val_categorical_accuracy: 0.6587\n",
            "Epoch 17/60\n",
            "94/94 [==============================] - 25s 261ms/step - loss: 0.7729 - categorical_accuracy: 0.6723 - val_loss: 0.8504 - val_categorical_accuracy: 0.6427\n",
            "Epoch 18/60\n",
            "94/94 [==============================] - 25s 261ms/step - loss: 0.7742 - categorical_accuracy: 0.6743 - val_loss: 0.8067 - val_categorical_accuracy: 0.6480\n",
            "Epoch 19/60\n",
            "94/94 [==============================] - 25s 262ms/step - loss: 0.7561 - categorical_accuracy: 0.6810 - val_loss: 0.7775 - val_categorical_accuracy: 0.6827\n",
            "Epoch 20/60\n",
            "94/94 [==============================] - 25s 261ms/step - loss: 0.7659 - categorical_accuracy: 0.6757 - val_loss: 0.7848 - val_categorical_accuracy: 0.6507\n",
            "Epoch 21/60\n",
            "94/94 [==============================] - 25s 261ms/step - loss: 0.7523 - categorical_accuracy: 0.6887 - val_loss: 0.7834 - val_categorical_accuracy: 0.6667\n",
            "Epoch 22/60\n",
            "94/94 [==============================] - 25s 261ms/step - loss: 0.7552 - categorical_accuracy: 0.6847 - val_loss: 0.7541 - val_categorical_accuracy: 0.6880\n",
            "Epoch 23/60\n",
            "94/94 [==============================] - 25s 262ms/step - loss: 0.7477 - categorical_accuracy: 0.6840 - val_loss: 0.7653 - val_categorical_accuracy: 0.6907\n",
            "Epoch 24/60\n",
            "94/94 [==============================] - 25s 261ms/step - loss: 0.7332 - categorical_accuracy: 0.6917 - val_loss: 0.7483 - val_categorical_accuracy: 0.7040\n",
            "Epoch 25/60\n",
            "94/94 [==============================] - 25s 260ms/step - loss: 0.7336 - categorical_accuracy: 0.6907 - val_loss: 0.7851 - val_categorical_accuracy: 0.6747\n",
            "Epoch 26/60\n",
            "94/94 [==============================] - 25s 261ms/step - loss: 0.7212 - categorical_accuracy: 0.7020 - val_loss: 0.7448 - val_categorical_accuracy: 0.7067\n",
            "Epoch 27/60\n",
            "94/94 [==============================] - 25s 261ms/step - loss: 0.7144 - categorical_accuracy: 0.7070 - val_loss: 0.7352 - val_categorical_accuracy: 0.7013\n",
            "Epoch 28/60\n",
            "94/94 [==============================] - 25s 261ms/step - loss: 0.7176 - categorical_accuracy: 0.6990 - val_loss: 0.7367 - val_categorical_accuracy: 0.7013\n",
            "Epoch 29/60\n",
            "94/94 [==============================] - 25s 261ms/step - loss: 0.7177 - categorical_accuracy: 0.7007 - val_loss: 0.7369 - val_categorical_accuracy: 0.7013\n",
            "Epoch 30/60\n",
            "94/94 [==============================] - 25s 261ms/step - loss: 0.7164 - categorical_accuracy: 0.7017 - val_loss: 0.7280 - val_categorical_accuracy: 0.7227\n",
            "Epoch 31/60\n",
            "94/94 [==============================] - 25s 261ms/step - loss: 0.7131 - categorical_accuracy: 0.7040 - val_loss: 0.7312 - val_categorical_accuracy: 0.7067\n",
            "Epoch 32/60\n",
            "94/94 [==============================] - 25s 261ms/step - loss: 0.6992 - categorical_accuracy: 0.7073 - val_loss: 0.7985 - val_categorical_accuracy: 0.6587\n",
            "Epoch 33/60\n",
            "94/94 [==============================] - 25s 261ms/step - loss: 0.7051 - categorical_accuracy: 0.7090 - val_loss: 0.7274 - val_categorical_accuracy: 0.6987\n",
            "Epoch 34/60\n",
            "94/94 [==============================] - 25s 261ms/step - loss: 0.6865 - categorical_accuracy: 0.7153 - val_loss: 0.7614 - val_categorical_accuracy: 0.7067\n",
            "Epoch 35/60\n",
            "94/94 [==============================] - 25s 262ms/step - loss: 0.6909 - categorical_accuracy: 0.7160 - val_loss: 0.7797 - val_categorical_accuracy: 0.6880\n",
            "Epoch 36/60\n",
            "94/94 [==============================] - 25s 261ms/step - loss: 0.6874 - categorical_accuracy: 0.7130 - val_loss: 0.7328 - val_categorical_accuracy: 0.7173\n",
            "Epoch 37/60\n",
            "94/94 [==============================] - 25s 262ms/step - loss: 0.6893 - categorical_accuracy: 0.7127 - val_loss: 0.7436 - val_categorical_accuracy: 0.6960\n",
            "Epoch 38/60\n",
            "94/94 [==============================] - 25s 261ms/step - loss: 0.6775 - categorical_accuracy: 0.7170 - val_loss: 0.7150 - val_categorical_accuracy: 0.7147\n",
            "Epoch 39/60\n",
            "94/94 [==============================] - 25s 261ms/step - loss: 0.6870 - categorical_accuracy: 0.7137 - val_loss: 0.8126 - val_categorical_accuracy: 0.6827\n",
            "Epoch 40/60\n",
            "94/94 [==============================] - 25s 262ms/step - loss: 0.6759 - categorical_accuracy: 0.7157 - val_loss: 0.7749 - val_categorical_accuracy: 0.6933\n",
            "Epoch 41/60\n",
            "94/94 [==============================] - 25s 261ms/step - loss: 0.6878 - categorical_accuracy: 0.7153 - val_loss: 0.7406 - val_categorical_accuracy: 0.7040\n",
            "Epoch 42/60\n",
            "94/94 [==============================] - 25s 262ms/step - loss: 0.6632 - categorical_accuracy: 0.7243 - val_loss: 0.7023 - val_categorical_accuracy: 0.7253\n",
            "Epoch 43/60\n",
            "94/94 [==============================] - 25s 262ms/step - loss: 0.6602 - categorical_accuracy: 0.7173 - val_loss: 0.7115 - val_categorical_accuracy: 0.7307\n",
            "Epoch 44/60\n",
            "94/94 [==============================] - 25s 261ms/step - loss: 0.6599 - categorical_accuracy: 0.7250 - val_loss: 1.1258 - val_categorical_accuracy: 0.5680\n",
            "Epoch 45/60\n",
            "94/94 [==============================] - 25s 262ms/step - loss: 0.6631 - categorical_accuracy: 0.7200 - val_loss: 0.7338 - val_categorical_accuracy: 0.6880\n",
            "Epoch 46/60\n",
            "94/94 [==============================] - 25s 262ms/step - loss: 0.6536 - categorical_accuracy: 0.7237 - val_loss: 0.7013 - val_categorical_accuracy: 0.7200\n",
            "Epoch 47/60\n",
            "94/94 [==============================] - 25s 262ms/step - loss: 0.6600 - categorical_accuracy: 0.7310 - val_loss: 0.7020 - val_categorical_accuracy: 0.7307\n",
            "Epoch 48/60\n",
            "94/94 [==============================] - 25s 262ms/step - loss: 0.6471 - categorical_accuracy: 0.7277 - val_loss: 0.6825 - val_categorical_accuracy: 0.7333\n",
            "Epoch 49/60\n",
            "94/94 [==============================] - 25s 262ms/step - loss: 0.6426 - categorical_accuracy: 0.7333 - val_loss: 0.6831 - val_categorical_accuracy: 0.7227\n",
            "Epoch 50/60\n",
            "94/94 [==============================] - 25s 262ms/step - loss: 0.6539 - categorical_accuracy: 0.7280 - val_loss: 0.6782 - val_categorical_accuracy: 0.7387\n",
            "Epoch 51/60\n",
            "94/94 [==============================] - 25s 262ms/step - loss: 0.6400 - categorical_accuracy: 0.7297 - val_loss: 0.6978 - val_categorical_accuracy: 0.7253\n",
            "Epoch 52/60\n",
            "94/94 [==============================] - 25s 262ms/step - loss: 0.6439 - categorical_accuracy: 0.7280 - val_loss: 0.6857 - val_categorical_accuracy: 0.7333\n",
            "Epoch 53/60\n",
            "94/94 [==============================] - 25s 258ms/step - loss: 0.6313 - categorical_accuracy: 0.7343 - val_loss: 0.6826 - val_categorical_accuracy: 0.7253\n",
            "Epoch 54/60\n",
            "94/94 [==============================] - 25s 258ms/step - loss: 0.6299 - categorical_accuracy: 0.7390 - val_loss: 0.6904 - val_categorical_accuracy: 0.7253\n",
            "Epoch 55/60\n",
            "94/94 [==============================] - 25s 258ms/step - loss: 0.6308 - categorical_accuracy: 0.7373 - val_loss: 0.6657 - val_categorical_accuracy: 0.7467\n",
            "Epoch 56/60\n",
            "94/94 [==============================] - 25s 258ms/step - loss: 0.6201 - categorical_accuracy: 0.7513 - val_loss: 0.6948 - val_categorical_accuracy: 0.7200\n",
            "Epoch 57/60\n",
            "94/94 [==============================] - 25s 258ms/step - loss: 0.6266 - categorical_accuracy: 0.7417 - val_loss: 0.6838 - val_categorical_accuracy: 0.7333\n",
            "Epoch 58/60\n",
            "94/94 [==============================] - 25s 261ms/step - loss: 0.6107 - categorical_accuracy: 0.7490 - val_loss: 0.7014 - val_categorical_accuracy: 0.7200\n",
            "Epoch 59/60\n",
            "94/94 [==============================] - 25s 261ms/step - loss: 0.6203 - categorical_accuracy: 0.7397 - val_loss: 0.7157 - val_categorical_accuracy: 0.7387\n",
            "Epoch 60/60\n",
            "94/94 [==============================] - 25s 262ms/step - loss: 0.6115 - categorical_accuracy: 0.7463 - val_loss: 0.6559 - val_categorical_accuracy: 0.7547\n"
          ]
        }
      ],
      "source": [
        "# train the model\n",
        "epochs = 60\n",
        "history = cnn.fit(augmentedTrain,\n",
        "                    epochs=epochs,\n",
        "                    validation_data=validate,\n",
        "                    shuffle=True,\n",
        "                  )"
      ]
    },
    {
      "cell_type": "code",
      "execution_count": 56,
      "metadata": {
        "id": "83KNkeNKUsdH",
        "colab": {
          "base_uri": "https://localhost:8080/"
        },
        "outputId": "f7964ea8-36a8-451b-d9eb-30520e53f6e5"
      },
      "outputs": [
        {
          "output_type": "stream",
          "name": "stdout",
          "text": [
            "12/12 [==============================] - 1s 32ms/step - loss: 0.6829 - categorical_accuracy: 0.7307\n"
          ]
        }
      ],
      "source": [
        "# metrics\n",
        "metrics = cnn.evaluate(test)"
      ]
    },
    {
      "cell_type": "code",
      "execution_count": 55,
      "metadata": {
        "id": "6gpKUkpTfQqC",
        "colab": {
          "base_uri": "https://localhost:8080/"
        },
        "outputId": "ed23bf96-b43a-4a24-c17b-7e38029f5cb9"
      },
      "outputs": [
        {
          "output_type": "stream",
          "name": "stdout",
          "text": [
            "dict_keys(['loss', 'categorical_accuracy', 'val_loss', 'val_categorical_accuracy'])\n"
          ]
        }
      ],
      "source": [
        "print(history.history.keys())"
      ]
    },
    {
      "cell_type": "code",
      "execution_count": 57,
      "metadata": {
        "id": "RFgXf_3ge8jN",
        "colab": {
          "base_uri": "https://localhost:8080/",
          "height": 295
        },
        "outputId": "29c7c276-7f7e-4efe-b9a5-d63ad869355b"
      },
      "outputs": [
        {
          "output_type": "display_data",
          "data": {
            "text/plain": [
              "<Figure size 432x288 with 1 Axes>"
            ],
            "image/png": "[encoded data removed]"
          },
          "metadata": {
            "needs_background": "light"
          }
        }
      ],
      "source": [
        "plt.plot(history.history['categorical_accuracy'])\n",
        "plt.plot(history.history['val_categorical_accuracy'])\n",
        "plt.ylabel(\"Accuracy\")\n",
        "plt.xlabel(\"Epoch\")\n",
        "plt.title('Accuracy')\n",
        "plt.legend([\"train\", \"valid\"], loc=\"lower right\")\n",
        "plt.show()"
      ]
    },
    {
      "cell_type": "code",
      "execution_count": 58,
      "metadata": {
        "id": "wOjWtUwYgPKh",
        "colab": {
          "base_uri": "https://localhost:8080/",
          "height": 295
        },
        "outputId": "42e8e372-41dc-4e45-8346-dab7e40f88d0"
      },
      "outputs": [
        {
          "output_type": "display_data",
          "data": {
            "text/plain": [
              "<Figure size 432x288 with 1 Axes>"
            ],
            "image/png": "[encoded data removed]"
          },
          "metadata": {
            "needs_background": "light"
          }
        }
      ],
      "source": [
        "plt.plot(history.history['loss'])\n",
        "plt.plot(history.history['val_loss'])\n",
        "plt.ylabel(\"Loss\")\n",
        "plt.xlabel(\"Epoch\")\n",
        "plt.title('Loss')\n",
        "plt.legend([\"train\", \"valid\"], loc=\"upper right\")\n",
        "plt.show()"
      ]
    },
    {
      "cell_type": "markdown",
      "source": [
        "Learning Curves"
      ],
      "metadata": {
        "id": "fEKr2uvhPXyc"
      }
    },
    {
      "cell_type": "code",
      "execution_count": null,
      "metadata": {
        "id": "8GI1TKWOmEcX"
      },
      "outputs": [],
      "source": []
    }
  ],
  "metadata": {
    "accelerator": "GPU",
    "colab": {
      "provenance": []
    },
    "gpuClass": "premium",
    "kernelspec": {
      "display_name": "Python 3",
      "name": "python3"
    },
    "language_info": {
      "name": "python"
    }
  },
  "nbformat": 4,
  "nbformat_minor": 0
}